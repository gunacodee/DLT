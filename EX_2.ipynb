{
  "nbformat": 4,
  "nbformat_minor": 0,
  "metadata": {
    "colab": {
      "provenance": [],
      "authorship_tag": "ABX9TyNJlMSQXRRpQPPyqlzjHpoO",
      "include_colab_link": true
    },
    "kernelspec": {
      "name": "python3",
      "display_name": "Python 3"
    },
    "language_info": {
      "name": "python"
    }
  },
  "cells": [
    {
      "cell_type": "markdown",
      "metadata": {
        "id": "view-in-github",
        "colab_type": "text"
      },
      "source": [
        "<a href=\"https://colab.research.google.com/github/gunacodee/DLT/blob/main/EX_2.ipynb\" target=\"_parent\"><img src=\"https://colab.research.google.com/assets/colab-badge.svg\" alt=\"Open In Colab\"/></a>"
      ]
    },
    {
      "cell_type": "code",
      "execution_count": 1,
      "metadata": {
        "colab": {
          "base_uri": "https://localhost:8080/"
        },
        "id": "I2dHmwUeXcQr",
        "outputId": "12ddc4c6-52da-4a06-e3e8-cde389fedeb2"
      },
      "outputs": [
        {
          "output_type": "stream",
          "name": "stdout",
          "text": [
            "Iteration 200/2000, Cost: 0.2540\n",
            "Iteration 400/2000, Cost: 0.1597\n",
            "Iteration 600/2000, Cost: 0.1183\n",
            "Iteration 800/2000, Cost: 0.0947\n",
            "Iteration 1000/2000, Cost: 0.0793\n",
            "Iteration 1200/2000, Cost: 0.0685\n",
            "Iteration 1400/2000, Cost: 0.0604\n",
            "Iteration 1600/2000, Cost: 0.0542\n",
            "Iteration 1800/2000, Cost: 0.0492\n",
            "Iteration 2000/2000, Cost: 0.0451\n",
            "\n",
            "Model Accuracy on Iris Test Set: 1.0\n"
          ]
        }
      ],
      "source": [
        "import numpy as np\n",
        "from sklearn.datasets import load_iris\n",
        "from sklearn.model_selection import train_test_split\n",
        "from sklearn.metrics import accuracy_score\n",
        "\n",
        "# 1. Load Iris dataset\n",
        "data = load_iris()\n",
        "X = data.data           # Features\n",
        "y = data.target         # Multiclass labels: 0 = Setosa, 1 = Versicolor, 2 = Virginica\n",
        "\n",
        "# Binary classification: Is Setosa or Not\n",
        "y = (y == 0).astype(int)  # Setosa = 1, Others = 0\n",
        "\n",
        "# 2. Normalize features\n",
        "X = (X - np.mean(X, axis=0)) / (np.std(X, axis=0) + 1e-8)\n",
        "\n",
        "# Split into train and test sets\n",
        "X_train, X_test, y_train, y_test = train_test_split(X, y, test_size=0.2, random_state=42)\n",
        "\n",
        "# Logistic Regression Model\n",
        "class LogisticRegressionModel:\n",
        "    def __init__(self, learning_rate=0.01, num_iterations=2000):\n",
        "        self.learning_rate = learning_rate\n",
        "        self.num_iterations = num_iterations\n",
        "        self.weights = None\n",
        "        self.bias = None\n",
        "\n",
        "    def _sigmoid(self, z):\n",
        "        return 1 / (1 + np.exp(-z))\n",
        "\n",
        "    def fit(self, X, y):\n",
        "        n_samples, n_features = X.shape\n",
        "        self.weights = np.zeros(n_features)\n",
        "        self.bias = 0\n",
        "\n",
        "        for i in range(self.num_iterations):\n",
        "            # Forward propagation\n",
        "            linear_model = np.dot(X, self.weights) + self.bias\n",
        "            y_predicted = self._sigmoid(linear_model)\n",
        "\n",
        "            # Cost computation (log loss)\n",
        "            cost = -np.mean(y * np.log(y_predicted + 1e-8) + (1 - y) * np.log(1 - y_predicted + 1e-8))\n",
        "\n",
        "            # Backward propagation (gradient descent)\n",
        "            dw = (1 / n_samples) * np.dot(X.T, (y_predicted - y))\n",
        "            db = (1 / n_samples) * np.sum(y_predicted - y)\n",
        "\n",
        "            # Update parameters\n",
        "            self.weights -= self.learning_rate * dw\n",
        "            self.bias -= self.learning_rate * db\n",
        "\n",
        "            # Print cost every 200 iterations\n",
        "            if (i + 1) % 200 == 0:\n",
        "                print(f\"Iteration {i+1}/{self.num_iterations}, Cost: {cost:.4f}\")\n",
        "\n",
        "    def predict(self, X):\n",
        "        linear_model = np.dot(X, self.weights) + self.bias\n",
        "        y_predicted = self._sigmoid(linear_model)\n",
        "        return np.array([1 if i > 0.5 else 0 for i in y_predicted])\n",
        "\n",
        "# 3. Train and evaluate\n",
        "model = LogisticRegressionModel(learning_rate=0.01, num_iterations=2000)\n",
        "model.fit(X_train, y_train)\n",
        "\n",
        "# 4. Predict and check accuracy\n",
        "y_pred = model.predict(X_test)\n",
        "accuracy = accuracy_score(y_test, y_pred)\n",
        "print(\"\\nModel Accuracy on Iris Test Set:\", accuracy)\n"
      ]
    }
  ]
}