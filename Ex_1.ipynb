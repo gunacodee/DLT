{
  "nbformat": 4,
  "nbformat_minor": 0,
  "metadata": {
    "colab": {
      "provenance": [],
      "authorship_tag": "ABX9TyO2iOyo4k9azG0xLMNImoCX",
      "include_colab_link": true
    },
    "kernelspec": {
      "name": "python3",
      "display_name": "Python 3"
    },
    "language_info": {
      "name": "python"
    }
  },
  "cells": [
    {
      "cell_type": "markdown",
      "metadata": {
        "id": "view-in-github",
        "colab_type": "text"
      },
      "source": [
        "<a href=\"https://colab.research.google.com/github/gunacodee/DLT/blob/main/Ex_1.ipynb\" target=\"_parent\"><img src=\"https://colab.research.google.com/assets/colab-badge.svg\" alt=\"Open In Colab\"/></a>"
      ]
    },
    {
      "cell_type": "code",
      "execution_count": null,
      "metadata": {
        "colab": {
          "base_uri": "https://localhost:8080/"
        },
        "id": "BAc8xbVFVdFx",
        "outputId": "606e3944-e855-4f81-a4b1-f79db756780c"
      },
      "outputs": [
        {
          "output_type": "stream",
          "name": "stdout",
          "text": [
            "AND Gate:\n",
            "(0, 0) -> 0\n",
            "(0, 1) -> 0\n",
            "(1, 0) -> 0\n",
            "(1, 1) -> 1\n",
            "\n",
            "OR Gate:\n",
            "(0, 0) -> 0\n",
            "(0, 1) -> 1\n",
            "(1, 0) -> 1\n",
            "(1, 1) -> 1\n",
            "\n",
            "NOT Gate:\n",
            "0 -> 1\n",
            "1 -> 0\n",
            "\n",
            "NOR Gate:\n",
            "(0, 0) -> 1\n",
            "(0, 1) -> 0\n",
            "(1, 0) -> 0\n",
            "(1, 1) -> 0\n",
            "\n",
            "XOR Gate:\n",
            "(0, 0) -> 0\n",
            "(0, 1) -> 1\n",
            "(1, 0) -> 1\n",
            "(1, 1) -> 0\n"
          ]
        }
      ],
      "source": [
        "# McCulloch-Pitts Neuron Function\n",
        "def mcp_neuron(inputs, weights, threshold):\n",
        "    summation = sum(i * w for i, w in zip(inputs, weights))\n",
        "    return 1 if summation >= threshold else 0\n",
        "\n",
        "# Logic Gate Implementations\n",
        "def AND_gate(x1, x2):\n",
        "    return mcp_neuron([x1, x2], [1, 1], 2)\n",
        "\n",
        "def OR_gate(x1, x2):\n",
        "    return mcp_neuron([x1, x2], [1, 1], 1)\n",
        "\n",
        "def NOT_gate(x1):\n",
        "    return mcp_neuron([x1], [-1], 0)\n",
        "\n",
        "def NOR_gate(x1, x2):\n",
        "    return mcp_neuron([x1, x2], [-1, -1], 0)\n",
        "\n",
        "def XOR_gate(x1, x2):\n",
        "    # XOR can't be implemented by a single-layer MCP, so using manual logic\n",
        "    return 1 if x1 != x2 else 0\n",
        "\n",
        "# Testing All Gates\n",
        "def test_logic_gates():\n",
        "    print(\"AND Gate:\")\n",
        "    for x in [(0,0), (0,1), (1,0), (1,1)]:\n",
        "        print(f\"{x} -> {AND_gate(*x)}\")\n",
        "\n",
        "    print(\"\\nOR Gate:\")\n",
        "    for x in [(0,0), (0,1), (1,0), (1,1)]:\n",
        "        print(f\"{x} -> {OR_gate(*x)}\")\n",
        "\n",
        "    print(\"\\nNOT Gate:\")\n",
        "    for x in [0, 1]:\n",
        "        print(f\"{x} -> {NOT_gate(x)}\")\n",
        "\n",
        "    print(\"\\nNOR Gate:\")\n",
        "    for x in [(0,0), (0,1), (1,0), (1,1)]:\n",
        "        print(f\"{x} -> {NOR_gate(*x)}\")\n",
        "\n",
        "    print(\"\\nXOR Gate:\")\n",
        "    for x in [(0,0), (0,1), (1,0), (1,1)]:\n",
        "        print(f\"{x} -> {XOR_gate(*x)}\")\n",
        "\n",
        "# Run tests\n",
        "test_logic_gates()\n"
      ]
    }
  ]
}